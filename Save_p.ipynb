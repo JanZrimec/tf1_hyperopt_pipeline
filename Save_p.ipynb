{
 "cells": [
  {
   "cell_type": "code",
   "execution_count": 1,
   "metadata": {},
   "outputs": [
    {
     "name": "stderr",
     "output_type": "stream",
     "text": [
      "Using TensorFlow backend.\n"
     ]
    }
   ],
   "source": [
    "import keras\n",
    "import numpy as np\n",
    "import pandas as pd\n",
    "import h5py as h5\n",
    "import matplotlib.pyplot as plt\n",
    "from plotnine import *\n",
    "\n",
    "import importlib.util\n",
    "from keras.models import Model\n",
    "from keras.layers import Conv1D,MaxPooling1D,LSTM,BatchNormalization,Dropout,Input,Dense,Bidirectional,Flatten,Concatenate,Reshape\n",
    "import tensorflow as tf\n",
    "\n",
    "import warnings\n",
    "warnings.filterwarnings('ignore')"
   ]
  },
  {
   "cell_type": "code",
   "execution_count": 3,
   "metadata": {},
   "outputs": [],
   "source": [
    "## load data and model\n",
    "\n",
    "# load modules - POC model\n",
    "def load_module(model_path):\n",
    "    '''loads module containing models given path'''\n",
    "    spec = importlib.util.spec_from_file_location('module',model_path)\n",
    "    module = importlib.util.module_from_spec(spec)\n",
    "    spec.loader.exec_module(module)\n",
    "    return module\n",
    "\n",
    "module = load_module('../2019_3_10/models/Model_C3F2dil.py')\n",
    "\n",
    "# load p\n",
    "p = pd.read_csv('RSD1_regcf_optlambda_25_3_19.csv',sep=';')\n",
    "p = p.iloc[0]\n",
    "p.drop(['path','overfit'],inplace=True)\n",
    "\n"
   ]
  },
  {
   "cell_type": "code",
   "execution_count": 4,
   "metadata": {},
   "outputs": [],
   "source": [
    "folder = ''#'/Users/zrimec/box/Projects-active/DeepExpression/results/2019_3_30'\n",
    "p.to_csv(folder+'scerevisiae_good_rsd1_lmbda22_Model_C3F2varsCF_1234_4497f4272d14ec89af982ab163e14852_best.p')\n"
   ]
  },
  {
   "cell_type": "code",
   "execution_count": null,
   "metadata": {},
   "outputs": [],
   "source": []
  }
 ],
 "metadata": {
  "kernelspec": {
   "display_name": "Python [conda env:tf110k22py36]",
   "language": "python",
   "name": "conda-env-tf110k22py36-py"
  },
  "language_info": {
   "codemirror_mode": {
    "name": "ipython",
    "version": 3
   },
   "file_extension": ".py",
   "mimetype": "text/x-python",
   "name": "python",
   "nbconvert_exporter": "python",
   "pygments_lexer": "ipython3",
   "version": "3.6.7"
  }
 },
 "nbformat": 4,
 "nbformat_minor": 2
}
